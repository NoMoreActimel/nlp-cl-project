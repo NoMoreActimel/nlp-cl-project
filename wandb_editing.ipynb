{
 "cells": [
  {
   "cell_type": "code",
   "execution_count": null,
   "metadata": {},
   "outputs": [],
   "source": [
    "!pip install wandb\n",
    "!pip install 'wandb[importers]'"
   ]
  },
  {
   "cell_type": "code",
   "execution_count": 1,
   "metadata": {},
   "outputs": [],
   "source": [
    "import os\n",
    "os.environ['WANDB_API_KEY'] = \"\"\n",
    "os.environ[\"WANDB_MODE\"] = \"online\""
   ]
  },
  {
   "cell_type": "code",
   "execution_count": null,
   "metadata": {},
   "outputs": [],
   "source": [
    "import wandb\n",
    "import os\n",
    "\n",
    "api = wandb.Api()\n",
    "run = api.run(\"nothottryhard-msu/nlp-cl-project/x38dr3a7\")"
   ]
  },
  {
   "cell_type": "code",
   "execution_count": 9,
   "metadata": {},
   "outputs": [
    {
     "data": {
      "text/html": [
       "<iframe src='https://wandb.ai/nothottryhard-msu/nlp-cl-project/runs/x38dr3a7?jupyter=true' style='border:none;width:100%;height:420px;'></iframe>"
      ],
      "text/plain": [
       "<Run nothottryhard-msu/nlp-cl-project/x38dr3a7 (finished)>"
      ]
     },
     "execution_count": 9,
     "metadata": {},
     "output_type": "execute_result"
    }
   ],
   "source": [
    "run"
   ]
  },
  {
   "cell_type": "code",
   "execution_count": null,
   "metadata": {},
   "outputs": [],
   "source": []
  },
  {
   "cell_type": "code",
   "execution_count": 10,
   "metadata": {},
   "outputs": [],
   "source": [
    "run_history = run.history()"
   ]
  },
  {
   "cell_type": "code",
   "execution_count": 5,
   "metadata": {},
   "outputs": [
    {
     "data": {
      "text/plain": [
       "{'_is_copy': None,\n",
       " '_mgr': BlockManager\n",
       " Items: Index(['total_loss_val_C4', '_step', 'learning rate_train', 'epoch_train',\n",
       "        'extra_loss_val_cnndm', '_runtime', 'total_loss_train', 'epoch_val_C4',\n",
       "        'epoch_', 'extra_loss_val_C4', 'extra_loss_val_wikihow',\n",
       "        'loss_val_xsum', 'total_loss_val_xsum', 'total_loss_val_wikihow',\n",
       "        'loss_val_wikihow', 'loss_val_C4', 'extra_loss_val_xsum',\n",
       "        'total_loss_val_cnndm', 'grad norm_train', '_timestamp',\n",
       "        'extra_loss_train', 'loss_train', 'loss_val_cnndm',\n",
       "        'steps_per_sec_train', 'steps_per_sec_val_cnndm',\n",
       "        'steps_per_sec_val_wikihow', 'steps_per_sec_val_C4',\n",
       "        'steps_per_sec_val_xsum'],\n",
       "       dtype='object')\n",
       " Axis 1: RangeIndex(start=0, stop=10, step=1)\n",
       " NumpyBlock: [ 0  2  3  4  5  6  7  8  9 10 11 12 13 14 15 16 17 18 19 20 21 22 23 24\n",
       "  25 26 27], 27 x 10, dtype: float64\n",
       " NumpyBlock: slice(1, 2, 1), 1 x 10, dtype: int64,\n",
       " '_item_cache': {},\n",
       " '_attrs': {},\n",
       " '_flags': <Flags(allows_duplicate_labels=True)>}"
      ]
     },
     "execution_count": 5,
     "metadata": {},
     "output_type": "execute_result"
    }
   ],
   "source": [
    "run_history.__dict__"
   ]
  },
  {
   "cell_type": "code",
   "execution_count": 11,
   "metadata": {},
   "outputs": [],
   "source": [
    "modified_step = (run_history['_step'] * 0.75).astype('int64')"
   ]
  },
  {
   "cell_type": "code",
   "execution_count": 12,
   "metadata": {},
   "outputs": [],
   "source": [
    "run_history['_step'] = modified_step"
   ]
  },
  {
   "cell_type": "code",
   "execution_count": 13,
   "metadata": {},
   "outputs": [
    {
     "data": {
      "text/plain": [
       "True"
      ]
     },
     "execution_count": 13,
     "metadata": {},
     "output_type": "execute_result"
    }
   ],
   "source": [
    "wandb.login()"
   ]
  },
  {
   "cell_type": "code",
   "execution_count": 14,
   "metadata": {},
   "outputs": [
    {
     "data": {
      "text/plain": [
       "{'_attrs': {'projectId': '41335949',\n",
       "  'id': 'UnVuOnYxOngzOGRyM2E3Om5scC1jbC1wcm9qZWN0Om5vdGhvdHRyeWhhcmQtbXN1',\n",
       "  'tags': [],\n",
       "  'name': 'x38dr3a7',\n",
       "  'displayName': 'Single SVDLoRA Math-1e-24k',\n",
       "  'sweepName': None,\n",
       "  'state': 'finished',\n",
       "  'config': {'data': {'train': {'datasets': [{'args': {'name': 'arithmetic__add_or_sub',\n",
       "        'path': 'deepmind/math_dataset',\n",
       "        'split': 'train',\n",
       "        'shuffle': True,\n",
       "        'max_samples': 24000,\n",
       "        'shuffle_seed': 52},\n",
       "       'type': 'MathDataset'},\n",
       "      {'args': {'name': 'arithmetic__add_or_sub_in_base',\n",
       "        'path': 'deepmind/math_dataset',\n",
       "        'split': 'train',\n",
       "        'shuffle': True,\n",
       "        'max_samples': 24000,\n",
       "        'shuffle_seed': 52},\n",
       "       'type': 'MathDataset'},\n",
       "      {'args': {'name': 'arithmetic__add_sub_multiple',\n",
       "        'path': 'deepmind/math_dataset',\n",
       "        'split': 'train',\n",
       "        'shuffle': True,\n",
       "        'max_samples': 24000,\n",
       "        'shuffle_seed': 52},\n",
       "       'type': 'MathDataset'},\n",
       "      {'args': {'name': 'arithmetic__div',\n",
       "        'path': 'deepmind/math_dataset',\n",
       "        'split': 'train',\n",
       "        'shuffle': True,\n",
       "        'max_samples': 24000,\n",
       "        'shuffle_seed': 52},\n",
       "       'type': 'MathDataset'},\n",
       "      {'args': {'name': 'arithmetic__mixed',\n",
       "        'path': 'deepmind/math_dataset',\n",
       "        'split': 'train',\n",
       "        'shuffle': True,\n",
       "        'max_samples': 24000,\n",
       "        'shuffle_seed': 52},\n",
       "       'type': 'MathDataset'},\n",
       "      {'args': {'name': 'arithmetic__mul',\n",
       "        'path': 'deepmind/math_dataset',\n",
       "        'split': 'train',\n",
       "        'shuffle': True,\n",
       "        'max_samples': 24000,\n",
       "        'shuffle_seed': 52},\n",
       "       'type': 'MathDataset'},\n",
       "      {'args': {'name': 'arithmetic__mul_div_multiple',\n",
       "        'path': 'deepmind/math_dataset',\n",
       "        'split': 'train',\n",
       "        'shuffle': True,\n",
       "        'max_samples': 24000,\n",
       "        'shuffle_seed': 52},\n",
       "       'type': 'MathDataset'},\n",
       "      {'args': {'name': 'arithmetic__nearest_integer_root',\n",
       "        'path': 'deepmind/math_dataset',\n",
       "        'split': 'train',\n",
       "        'shuffle': True,\n",
       "        'max_samples': 24000,\n",
       "        'shuffle_seed': 52},\n",
       "       'type': 'MathDataset'},\n",
       "      {'args': {'name': 'arithmetic__simplify_surd',\n",
       "        'path': 'deepmind/math_dataset',\n",
       "        'split': 'train',\n",
       "        'shuffle': True,\n",
       "        'max_samples': 24000,\n",
       "        'shuffle_seed': 52},\n",
       "       'type': 'MathDataset'}],\n",
       "     'batch_size': 16,\n",
       "     'max_length': 256,\n",
       "     'num_workers': 5,\n",
       "     'mixed_dataset': {'args': {'datasets': ['<src.datasets.math_datasets.MathDataset object at 0x7fae958ad120>',\n",
       "        '<src.datasets.math_datasets.MathDataset object at 0x7fae958ad180>',\n",
       "        '<src.datasets.math_datasets.MathDataset object at 0x7fae95707940>',\n",
       "        '<src.datasets.math_datasets.MathDataset object at 0x7fae9564f430>',\n",
       "        '<src.datasets.math_datasets.MathDataset object at 0x7fae97404910>',\n",
       "        '<src.datasets.math_datasets.MathDataset object at 0x7fae9564df60>',\n",
       "        '<src.datasets.math_datasets.MathDataset object at 0x7fae95706980>',\n",
       "        '<src.datasets.math_datasets.MathDataset object at 0x7fae9564f9d0>',\n",
       "        '<src.datasets.math_datasets.MathDataset object at 0x7fae9564e4d0>'],\n",
       "       'base_dataset': None,\n",
       "       'lpips_base_coeff': 0,\n",
       "       'lpips_prev_coeff': 1,\n",
       "       'base_dataset_config': None,\n",
       "       'sequential_mixing_rate': 0},\n",
       "      'type': 'MixedSequentialDataset'},\n",
       "     'tokenizer_name': ['T5Tokenizer', 't5-base'],\n",
       "     'use_mixed_dataset': True},\n",
       "    'val_C4': {'datasets': [{'args': {'path': 'allenai/c4',\n",
       "        'split': 'validation',\n",
       "        'streaming': False,\n",
       "        'data_files': {'validation': 'en/c4-validation.00000-of-00008.json.gz'},\n",
       "        'max_samples': 1000},\n",
       "       'type': 'HuggingFaceDataset'}],\n",
       "     'batch_size': 32,\n",
       "     'max_length': 256,\n",
       "     'num_workers': 5,\n",
       "     't5_mlm_masking': True,\n",
       "     'tokenizer_name': ['T5Tokenizer', 't5-base'],\n",
       "     'use_mixed_dataset': False},\n",
       "    'val_div': {'datasets': [{'args': {'name': 'arithmetic__div',\n",
       "        'path': 'deepmind/math_dataset',\n",
       "        'split': 'test',\n",
       "        'shuffle': True,\n",
       "        'max_samples': 256,\n",
       "        'shuffle_seed': 52},\n",
       "       'type': 'MathDataset'}],\n",
       "     'batch_size': 32,\n",
       "     'max_length': 256,\n",
       "     'num_workers': 5,\n",
       "     'tokenizer_name': ['T5Tokenizer', 't5-base'],\n",
       "     'use_mixed_dataset': False},\n",
       "    'val_mul': {'datasets': [{'args': {'name': 'arithmetic__mul',\n",
       "        'path': 'deepmind/math_dataset',\n",
       "        'split': 'test',\n",
       "        'shuffle': True,\n",
       "        'max_samples': 256,\n",
       "        'shuffle_seed': 52},\n",
       "       'type': 'MathDataset'}],\n",
       "     'batch_size': 32,\n",
       "     'max_length': 256,\n",
       "     'num_workers': 5,\n",
       "     'tokenizer_name': ['T5Tokenizer', 't5-base'],\n",
       "     'use_mixed_dataset': False},\n",
       "    'val_mixed': {'datasets': [{'args': {'name': 'arithmetic__mixed',\n",
       "        'path': 'deepmind/math_dataset',\n",
       "        'split': 'test',\n",
       "        'shuffle': True,\n",
       "        'max_samples': 256,\n",
       "        'shuffle_seed': 52},\n",
       "       'type': 'MathDataset'}],\n",
       "     'batch_size': 32,\n",
       "     'max_length': 256,\n",
       "     'num_workers': 5,\n",
       "     'tokenizer_name': ['T5Tokenizer', 't5-base'],\n",
       "     'use_mixed_dataset': False},\n",
       "    'val_add_or_sub': {'datasets': [{'args': {'name': 'arithmetic__add_or_sub',\n",
       "        'path': 'deepmind/math_dataset',\n",
       "        'split': 'test',\n",
       "        'shuffle': True,\n",
       "        'max_samples': 256,\n",
       "        'shuffle_seed': 52},\n",
       "       'type': 'MathDataset'}],\n",
       "     'batch_size': 32,\n",
       "     'max_length': 256,\n",
       "     'num_workers': 5,\n",
       "     'tokenizer_name': ['T5Tokenizer', 't5-base'],\n",
       "     'use_mixed_dataset': False},\n",
       "    'val_simplify_surd': {'datasets': [{'args': {'name': 'arithmetic__simplify_surd',\n",
       "        'path': 'deepmind/math_dataset',\n",
       "        'split': 'test',\n",
       "        'shuffle': True,\n",
       "        'max_samples': 256,\n",
       "        'shuffle_seed': 52},\n",
       "       'type': 'MathDataset'}],\n",
       "     'batch_size': 32,\n",
       "     'max_length': 256,\n",
       "     'num_workers': 5,\n",
       "     'tokenizer_name': ['T5Tokenizer', 't5-base'],\n",
       "     'use_mixed_dataset': False},\n",
       "    'val_add_sub_multiple': {'datasets': [{'args': {'name': 'arithmetic__add_sub_multiple',\n",
       "        'path': 'deepmind/math_dataset',\n",
       "        'split': 'test',\n",
       "        'shuffle': True,\n",
       "        'max_samples': 256,\n",
       "        'shuffle_seed': 52},\n",
       "       'type': 'MathDataset'}],\n",
       "     'batch_size': 32,\n",
       "     'max_length': 256,\n",
       "     'num_workers': 5,\n",
       "     'tokenizer_name': ['T5Tokenizer', 't5-base'],\n",
       "     'use_mixed_dataset': False},\n",
       "    'val_mul_div_multiple': {'datasets': [{'args': {'name': 'arithmetic__mul_div_multiple',\n",
       "        'path': 'deepmind/math_dataset',\n",
       "        'split': 'test',\n",
       "        'shuffle': True,\n",
       "        'max_samples': 256,\n",
       "        'shuffle_seed': 52},\n",
       "       'type': 'MathDataset'}],\n",
       "     'batch_size': 32,\n",
       "     'max_length': 256,\n",
       "     'num_workers': 5,\n",
       "     'tokenizer_name': ['T5Tokenizer', 't5-base'],\n",
       "     'use_mixed_dataset': False},\n",
       "    'val_add_or_sub_in_base': {'datasets': [{'args': {'name': 'arithmetic__add_or_sub_in_base',\n",
       "        'path': 'deepmind/math_dataset',\n",
       "        'split': 'test',\n",
       "        'shuffle': True,\n",
       "        'max_samples': 256,\n",
       "        'shuffle_seed': 52},\n",
       "       'type': 'MathDataset'}],\n",
       "     'batch_size': 32,\n",
       "     'max_length': 256,\n",
       "     'num_workers': 5,\n",
       "     'tokenizer_name': ['T5Tokenizer', 't5-base'],\n",
       "     'use_mixed_dataset': False},\n",
       "    'val_nearest_integer_root': {'datasets': [{'args': {'name': 'arithmetic__nearest_integer_root',\n",
       "        'path': 'deepmind/math_dataset',\n",
       "        'split': 'test',\n",
       "        'shuffle': True,\n",
       "        'max_samples': 256,\n",
       "        'shuffle_seed': 52},\n",
       "       'type': 'MathDataset'}],\n",
       "     'batch_size': 32,\n",
       "     'max_length': 256,\n",
       "     'num_workers': 5,\n",
       "     'tokenizer_name': ['T5Tokenizer', 't5-base'],\n",
       "     'use_mixed_dataset': False}},\n",
       "   'loss': {'type': 'CrossEntropyLoss'},\n",
       "   'name': 'T5_CL_summarization',\n",
       "   'model': {'args': {'t5_config': {'cache_dir': 'cache/',\n",
       "      'max_length': 256,\n",
       "      'model_name': 't5-base'},\n",
       "     'svd_lora_config': {'rank': 4,\n",
       "      'target_layers': ['q', 'k', 'v', 'o', 'wi', 'wo']}},\n",
       "    'type': 'T5SVDLoRA'},\n",
       "   'n_gpu': 1,\n",
       "   'metrics': [],\n",
       "   'trainer': {'epochs': 9,\n",
       "    'monitor': 'min loss',\n",
       "    'save_dir': 'saved/',\n",
       "    'verbosity': 2,\n",
       "    'visualize': 'wandb',\n",
       "    'save_period': 60,\n",
       "    'wandb_project': 'nlp-cl-project',\n",
       "    'eval_frequency': 1,\n",
       "    'grad_norm_clip': 100,\n",
       "    'wandb_run_name': 'Single SVDLoRA Math-1e-24k',\n",
       "    'first_epoch_eval_only': True},\n",
       "   'optimizer': {'args': {'lr': 0.0005,\n",
       "     'betas': [0.9, 0.95],\n",
       "     'weight_decay': 1e-05},\n",
       "    'type': 'AdamW'},\n",
       "   'lr_scheduler': {'args': {'gamma': 1}, 'type': 'ExponentialLR'}},\n",
       "  'group': None,\n",
       "  'jobType': None,\n",
       "  'commit': '7f7b99f3215283038bce3da0b443e0757d779ed5',\n",
       "  'readOnly': False,\n",
       "  'createdAt': '2025-04-15T16:38:51Z',\n",
       "  'heartbeatAt': '2025-04-15T19:14:29Z',\n",
       "  'description': 'Single SVDLoRA Math-1e-24k',\n",
       "  'notes': None,\n",
       "  'systemMetrics': {'system.cpu': 7.567033616612239,\n",
       "   'system.gpu.0.gpu': 3,\n",
       "   'system.gpu.0.temp': 61,\n",
       "   'system.gpu.0.memory': 0,\n",
       "   'system.network.recv': 74641440.0,\n",
       "   'system.network.sent': 74046869.0,\n",
       "   'system.gpu.0.smClock': 1950,\n",
       "   'system.disk./.usageGB': 171.13782119750977,\n",
       "   'system.gpu.0.fanSpeed': 41,\n",
       "   'system.memory_percent': 33.502614959542136,\n",
       "   'system.gpu.0.powerWatts': 186.924,\n",
       "   'system.proc.cpu.threads': 16,\n",
       "   'system.gpu.0.memoryClock': 9251,\n",
       "   'system.proc.memory.rssMB': 880.0546875,\n",
       "   'system.gpu.0.powerPercent': 54.97764705882353,\n",
       "   'system.disk./.usagePercent': 17.908221081138386,\n",
       "   'system.proc.memory.percent': 11.115748963883956,\n",
       "   'system.gpu.0.memoryAllocated': 99.44904327392578,\n",
       "   'system.proc.memory.availableMB': 4943.44140625,\n",
       "   'system.gpu.0.memoryAllocatedBytes': 10678259712,\n",
       "   'system.gpu.0.enforcedPowerLimitWatts': 340},\n",
       "  'summaryMetrics': {'_runtime': 9338.435600734,\n",
       "   '_step': 13500,\n",
       "   '_timestamp': 1744744467.6624918,\n",
       "   '_wandb': {'runtime': 9338},\n",
       "   'epoch_': 0,\n",
       "   'epoch_val_C4': 9,\n",
       "   'extra_loss_train': 0.08475290805101394,\n",
       "   'extra_loss_val_C4': 0,\n",
       "   'extra_loss_val_add_or_sub': 0,\n",
       "   'extra_loss_val_add_or_sub_in_base': 0,\n",
       "   'extra_loss_val_add_sub_multiple': 0,\n",
       "   'extra_loss_val_div': 0,\n",
       "   'extra_loss_val_mixed': 0,\n",
       "   'extra_loss_val_mul': 0,\n",
       "   'extra_loss_val_mul_div_multiple': 0,\n",
       "   'extra_loss_val_nearest_integer_root': 0,\n",
       "   'extra_loss_val_simplify_surd': 0,\n",
       "   'grad norm_train': 0.664344636797905,\n",
       "   'learning rate_train': 0.0005,\n",
       "   'loss_train': 0.809391382932663,\n",
       "   'loss_val_C4': 2.092817060649395,\n",
       "   'loss_val_add_or_sub': 1.926990821957588,\n",
       "   'loss_val_add_or_sub_in_base': 1.2669567912817,\n",
       "   'loss_val_add_sub_multiple': 1.025053769350052,\n",
       "   'loss_val_div': 1.4368008971214294,\n",
       "   'loss_val_mixed': 1.11203932762146,\n",
       "   'loss_val_mul': 1.9022621512413025,\n",
       "   'loss_val_mul_div_multiple': 1.1249133944511414,\n",
       "   'loss_val_nearest_integer_root': 1.0993231981992722,\n",
       "   'loss_val_simplify_surd': 0.864757314324379,\n",
       "   'steps_per_sec_train': 0.034307275722360274,\n",
       "   'steps_per_sec_val_C4': 0.0031841110210867403,\n",
       "   'steps_per_sec_val_add_or_sub': 0.03542481186413791,\n",
       "   'steps_per_sec_val_add_or_sub_in_base': 0.8112622672995594,\n",
       "   'steps_per_sec_val_add_sub_multiple': 0.867945555511194,\n",
       "   'steps_per_sec_val_div': 0.9250770820478617,\n",
       "   'steps_per_sec_val_mixed': 0.9286422043737192,\n",
       "   'steps_per_sec_val_mul': 0.8513724976033864,\n",
       "   'steps_per_sec_val_mul_div_multiple': 0.8554217485847048,\n",
       "   'steps_per_sec_val_nearest_integer_root': 0.9123829526719592,\n",
       "   'steps_per_sec_val_simplify_surd': 0.71249683829528,\n",
       "   'total_loss_train': 0.8941442883014679,\n",
       "   'total_loss_val_C4': 0,\n",
       "   'total_loss_val_add_or_sub': 0,\n",
       "   'total_loss_val_add_or_sub_in_base': 0,\n",
       "   'total_loss_val_add_sub_multiple': 0,\n",
       "   'total_loss_val_div': 0,\n",
       "   'total_loss_val_mixed': 0,\n",
       "   'total_loss_val_mul': 0,\n",
       "   'total_loss_val_mul_div_multiple': 0,\n",
       "   'total_loss_val_nearest_integer_root': 0,\n",
       "   'total_loss_val_simplify_surd': 0},\n",
       "  'historyLineCount': 271,\n",
       "  'user': {'name': 'Mike', 'username': 'nothottryhard'},\n",
       "  'historyKeys': {'keys': {'_runtime': {'typeCounts': [{'type': 'number',\n",
       "       'count': 271}],\n",
       "     'monotonic': True,\n",
       "     'previousValue': 9338.435600734},\n",
       "    '_step': {'typeCounts': [{'type': 'number', 'count': 271}],\n",
       "     'monotonic': True,\n",
       "     'previousValue': 13500},\n",
       "    '_timestamp': {'typeCounts': [{'type': 'number', 'count': 271}],\n",
       "     'monotonic': True,\n",
       "     'previousValue': 1744744467.6624918},\n",
       "    'epoch_': {'typeCounts': [{'type': 'number', 'count': 1}],\n",
       "     'monotonic': True,\n",
       "     'previousValue': 0},\n",
       "    'epoch_val_C4': {'typeCounts': [{'type': 'number', 'count': 9}],\n",
       "     'monotonic': True,\n",
       "     'previousValue': 9},\n",
       "    'extra_loss_train': {'typeCounts': [{'type': 'number', 'count': 270}],\n",
       "     'previousValue': 0.08475290805101394},\n",
       "    'extra_loss_val_C4': {'typeCounts': [{'type': 'number', 'count': 10}],\n",
       "     'monotonic': True,\n",
       "     'previousValue': 0},\n",
       "    'extra_loss_val_add_or_sub': {'typeCounts': [{'type': 'number',\n",
       "       'count': 10}],\n",
       "     'monotonic': True,\n",
       "     'previousValue': 0},\n",
       "    'extra_loss_val_add_or_sub_in_base': {'typeCounts': [{'type': 'number',\n",
       "       'count': 10}],\n",
       "     'monotonic': True,\n",
       "     'previousValue': 0},\n",
       "    'extra_loss_val_add_sub_multiple': {'typeCounts': [{'type': 'number',\n",
       "       'count': 10}],\n",
       "     'monotonic': True,\n",
       "     'previousValue': 0},\n",
       "    'extra_loss_val_div': {'typeCounts': [{'type': 'number', 'count': 10}],\n",
       "     'monotonic': True,\n",
       "     'previousValue': 0},\n",
       "    'extra_loss_val_mixed': {'typeCounts': [{'type': 'number', 'count': 10}],\n",
       "     'monotonic': True,\n",
       "     'previousValue': 0},\n",
       "    'extra_loss_val_mul': {'typeCounts': [{'type': 'number', 'count': 10}],\n",
       "     'monotonic': True,\n",
       "     'previousValue': 0},\n",
       "    'extra_loss_val_mul_div_multiple': {'typeCounts': [{'type': 'number',\n",
       "       'count': 10}],\n",
       "     'monotonic': True,\n",
       "     'previousValue': 0},\n",
       "    'extra_loss_val_nearest_integer_root': {'typeCounts': [{'type': 'number',\n",
       "       'count': 10}],\n",
       "     'monotonic': True,\n",
       "     'previousValue': 0},\n",
       "    'extra_loss_val_simplify_surd': {'typeCounts': [{'type': 'number',\n",
       "       'count': 10}],\n",
       "     'monotonic': True,\n",
       "     'previousValue': 0},\n",
       "    'grad norm_train': {'typeCounts': [{'type': 'number', 'count': 270}],\n",
       "     'previousValue': 0.664344636797905},\n",
       "    'learning rate_train': {'typeCounts': [{'type': 'number', 'count': 270}],\n",
       "     'monotonic': True,\n",
       "     'previousValue': 0.0005},\n",
       "    'loss_train': {'typeCounts': [{'type': 'number', 'count': 270}],\n",
       "     'previousValue': 0.809391382932663},\n",
       "    'loss_val_C4': {'typeCounts': [{'type': 'number', 'count': 10}],\n",
       "     'previousValue': 2.092817060649395},\n",
       "    'loss_val_add_or_sub': {'typeCounts': [{'type': 'number', 'count': 10}],\n",
       "     'previousValue': 1.926990821957588},\n",
       "    'loss_val_add_or_sub_in_base': {'typeCounts': [{'type': 'number',\n",
       "       'count': 10}],\n",
       "     'previousValue': 1.2669567912817},\n",
       "    'loss_val_add_sub_multiple': {'typeCounts': [{'type': 'number',\n",
       "       'count': 10}],\n",
       "     'previousValue': 1.025053769350052},\n",
       "    'loss_val_div': {'typeCounts': [{'type': 'number', 'count': 10}],\n",
       "     'previousValue': 1.4368008971214294},\n",
       "    'loss_val_mixed': {'typeCounts': [{'type': 'number', 'count': 10}],\n",
       "     'previousValue': 1.11203932762146},\n",
       "    'loss_val_mul': {'typeCounts': [{'type': 'number', 'count': 10}],\n",
       "     'previousValue': 1.9022621512413025},\n",
       "    'loss_val_mul_div_multiple': {'typeCounts': [{'type': 'number',\n",
       "       'count': 10}],\n",
       "     'previousValue': 1.1249133944511414},\n",
       "    'loss_val_nearest_integer_root': {'typeCounts': [{'type': 'number',\n",
       "       'count': 10}],\n",
       "     'previousValue': 1.0993231981992722},\n",
       "    'loss_val_simplify_surd': {'typeCounts': [{'type': 'number', 'count': 10}],\n",
       "     'previousValue': 0.864757314324379},\n",
       "    'steps_per_sec_train': {'typeCounts': [{'type': 'number', 'count': 269}],\n",
       "     'previousValue': 0.034307275722360274},\n",
       "    'steps_per_sec_val_C4': {'typeCounts': [{'type': 'number', 'count': 9}],\n",
       "     'previousValue': 0.0031841110210867403},\n",
       "    'steps_per_sec_val_add_or_sub': {'typeCounts': [{'type': 'number',\n",
       "       'count': 9}],\n",
       "     'previousValue': 0.03542481186413791},\n",
       "    'steps_per_sec_val_add_or_sub_in_base': {'typeCounts': [{'type': 'number',\n",
       "       'count': 9}],\n",
       "     'previousValue': 0.8112622672995594},\n",
       "    'steps_per_sec_val_add_sub_multiple': {'typeCounts': [{'type': 'number',\n",
       "       'count': 9}],\n",
       "     'previousValue': 0.867945555511194},\n",
       "    'steps_per_sec_val_div': {'typeCounts': [{'type': 'number', 'count': 9}],\n",
       "     'previousValue': 0.9250770820478617},\n",
       "    'steps_per_sec_val_mixed': {'typeCounts': [{'type': 'number', 'count': 9}],\n",
       "     'previousValue': 0.9286422043737192},\n",
       "    'steps_per_sec_val_mul': {'typeCounts': [{'type': 'number', 'count': 9}],\n",
       "     'previousValue': 0.8513724976033864},\n",
       "    'steps_per_sec_val_mul_div_multiple': {'typeCounts': [{'type': 'number',\n",
       "       'count': 9}],\n",
       "     'previousValue': 0.8554217485847048},\n",
       "    'steps_per_sec_val_nearest_integer_root': {'typeCounts': [{'type': 'number',\n",
       "       'count': 9}],\n",
       "     'previousValue': 0.9123829526719592},\n",
       "    'steps_per_sec_val_simplify_surd': {'typeCounts': [{'type': 'number',\n",
       "       'count': 9}],\n",
       "     'previousValue': 0.71249683829528},\n",
       "    'system/cpu': {'typeCounts': [{'type': 'number', 'count': 1352}]},\n",
       "    'system/disk./.usageGB': {'typeCounts': [{'type': 'number',\n",
       "       'count': 1352}]},\n",
       "    'system/disk./.usagePercent': {'typeCounts': [{'type': 'number',\n",
       "       'count': 1352}]},\n",
       "    'system/gpu.0.enforcedPowerLimitWatts': {'typeCounts': [{'type': 'number',\n",
       "       'count': 1352}]},\n",
       "    'system/gpu.0.fanSpeed': {'typeCounts': [{'type': 'number',\n",
       "       'count': 1352}]},\n",
       "    'system/gpu.0.gpu': {'typeCounts': [{'type': 'number', 'count': 1352}]},\n",
       "    'system/gpu.0.memory': {'typeCounts': [{'type': 'number', 'count': 1352}]},\n",
       "    'system/gpu.0.memoryAllocated': {'typeCounts': [{'type': 'number',\n",
       "       'count': 1352}]},\n",
       "    'system/gpu.0.memoryAllocatedBytes': {'typeCounts': [{'type': 'number',\n",
       "       'count': 1352}]},\n",
       "    'system/gpu.0.memoryClock': {'typeCounts': [{'type': 'number',\n",
       "       'count': 1352}]},\n",
       "    'system/gpu.0.powerPercent': {'typeCounts': [{'type': 'number',\n",
       "       'count': 1352}]},\n",
       "    'system/gpu.0.powerWatts': {'typeCounts': [{'type': 'number',\n",
       "       'count': 1352}]},\n",
       "    'system/gpu.0.smClock': {'typeCounts': [{'type': 'number',\n",
       "       'count': 1352}]},\n",
       "    'system/gpu.0.temp': {'typeCounts': [{'type': 'number', 'count': 1352}]},\n",
       "    'system/memory_percent': {'typeCounts': [{'type': 'number',\n",
       "       'count': 1352}]},\n",
       "    'system/network.recv': {'typeCounts': [{'type': 'number', 'count': 1352}]},\n",
       "    'system/network.sent': {'typeCounts': [{'type': 'number', 'count': 1352}]},\n",
       "    'system/proc.cpu.threads': {'typeCounts': [{'type': 'number',\n",
       "       'count': 1352}]},\n",
       "    'system/proc.memory.availableMB': {'typeCounts': [{'type': 'number',\n",
       "       'count': 1352}]},\n",
       "    'system/proc.memory.percent': {'typeCounts': [{'type': 'number',\n",
       "       'count': 1352}]},\n",
       "    'system/proc.memory.rssMB': {'typeCounts': [{'type': 'number',\n",
       "       'count': 1352}]},\n",
       "    'total_loss_train': {'typeCounts': [{'type': 'number', 'count': 270}],\n",
       "     'previousValue': 0.8941442883014679},\n",
       "    'total_loss_val_C4': {'typeCounts': [{'type': 'number', 'count': 10}],\n",
       "     'monotonic': True,\n",
       "     'previousValue': 0},\n",
       "    'total_loss_val_add_or_sub': {'typeCounts': [{'type': 'number',\n",
       "       'count': 10}],\n",
       "     'monotonic': True,\n",
       "     'previousValue': 0},\n",
       "    'total_loss_val_add_or_sub_in_base': {'typeCounts': [{'type': 'number',\n",
       "       'count': 10}],\n",
       "     'monotonic': True,\n",
       "     'previousValue': 0},\n",
       "    'total_loss_val_add_sub_multiple': {'typeCounts': [{'type': 'number',\n",
       "       'count': 10}],\n",
       "     'monotonic': True,\n",
       "     'previousValue': 0},\n",
       "    'total_loss_val_div': {'typeCounts': [{'type': 'number', 'count': 10}],\n",
       "     'monotonic': True,\n",
       "     'previousValue': 0},\n",
       "    'total_loss_val_mixed': {'typeCounts': [{'type': 'number', 'count': 10}],\n",
       "     'monotonic': True,\n",
       "     'previousValue': 0},\n",
       "    'total_loss_val_mul': {'typeCounts': [{'type': 'number', 'count': 10}],\n",
       "     'monotonic': True,\n",
       "     'previousValue': 0},\n",
       "    'total_loss_val_mul_div_multiple': {'typeCounts': [{'type': 'number',\n",
       "       'count': 10}],\n",
       "     'monotonic': True,\n",
       "     'previousValue': 0},\n",
       "    'total_loss_val_nearest_integer_root': {'typeCounts': [{'type': 'number',\n",
       "       'count': 10}],\n",
       "     'monotonic': True,\n",
       "     'previousValue': 0},\n",
       "    'total_loss_val_simplify_surd': {'typeCounts': [{'type': 'number',\n",
       "       'count': 10}],\n",
       "     'monotonic': True,\n",
       "     'previousValue': 0}},\n",
       "   'lastStep': 13500,\n",
       "   'sets': []},\n",
       "  'rawconfig': {'_wandb': {'m': [],\n",
       "    't': {'1': [1, 5, 11, 41, 49, 51, 53, 55, 100],\n",
       "     '2': [1, 5, 11, 41, 49, 51, 53, 55, 100],\n",
       "     '3': [13, 16, 23, 55, 61],\n",
       "     '4': '3.10.16',\n",
       "     '5': '0.19.9',\n",
       "     '6': '4.50.3',\n",
       "     '8': [5],\n",
       "     '12': '0.19.9',\n",
       "     '13': 'linux-x86_64'},\n",
       "    'cli_version': '0.19.9',\n",
       "    'python_version': '3.10.16'},\n",
       "   'data': {'train': {'datasets': [{'args': {'name': 'arithmetic__add_or_sub',\n",
       "        'path': 'deepmind/math_dataset',\n",
       "        'split': 'train',\n",
       "        'shuffle': True,\n",
       "        'max_samples': 24000,\n",
       "        'shuffle_seed': 52},\n",
       "       'type': 'MathDataset'},\n",
       "      {'args': {'name': 'arithmetic__add_or_sub_in_base',\n",
       "        'path': 'deepmind/math_dataset',\n",
       "        'split': 'train',\n",
       "        'shuffle': True,\n",
       "        'max_samples': 24000,\n",
       "        'shuffle_seed': 52},\n",
       "       'type': 'MathDataset'},\n",
       "      {'args': {'name': 'arithmetic__add_sub_multiple',\n",
       "        'path': 'deepmind/math_dataset',\n",
       "        'split': 'train',\n",
       "        'shuffle': True,\n",
       "        'max_samples': 24000,\n",
       "        'shuffle_seed': 52},\n",
       "       'type': 'MathDataset'},\n",
       "      {'args': {'name': 'arithmetic__div',\n",
       "        'path': 'deepmind/math_dataset',\n",
       "        'split': 'train',\n",
       "        'shuffle': True,\n",
       "        'max_samples': 24000,\n",
       "        'shuffle_seed': 52},\n",
       "       'type': 'MathDataset'},\n",
       "      {'args': {'name': 'arithmetic__mixed',\n",
       "        'path': 'deepmind/math_dataset',\n",
       "        'split': 'train',\n",
       "        'shuffle': True,\n",
       "        'max_samples': 24000,\n",
       "        'shuffle_seed': 52},\n",
       "       'type': 'MathDataset'},\n",
       "      {'args': {'name': 'arithmetic__mul',\n",
       "        'path': 'deepmind/math_dataset',\n",
       "        'split': 'train',\n",
       "        'shuffle': True,\n",
       "        'max_samples': 24000,\n",
       "        'shuffle_seed': 52},\n",
       "       'type': 'MathDataset'},\n",
       "      {'args': {'name': 'arithmetic__mul_div_multiple',\n",
       "        'path': 'deepmind/math_dataset',\n",
       "        'split': 'train',\n",
       "        'shuffle': True,\n",
       "        'max_samples': 24000,\n",
       "        'shuffle_seed': 52},\n",
       "       'type': 'MathDataset'},\n",
       "      {'args': {'name': 'arithmetic__nearest_integer_root',\n",
       "        'path': 'deepmind/math_dataset',\n",
       "        'split': 'train',\n",
       "        'shuffle': True,\n",
       "        'max_samples': 24000,\n",
       "        'shuffle_seed': 52},\n",
       "       'type': 'MathDataset'},\n",
       "      {'args': {'name': 'arithmetic__simplify_surd',\n",
       "        'path': 'deepmind/math_dataset',\n",
       "        'split': 'train',\n",
       "        'shuffle': True,\n",
       "        'max_samples': 24000,\n",
       "        'shuffle_seed': 52},\n",
       "       'type': 'MathDataset'}],\n",
       "     'batch_size': 16,\n",
       "     'max_length': 256,\n",
       "     'num_workers': 5,\n",
       "     'mixed_dataset': {'args': {'datasets': ['<src.datasets.math_datasets.MathDataset object at 0x7fae958ad120>',\n",
       "        '<src.datasets.math_datasets.MathDataset object at 0x7fae958ad180>',\n",
       "        '<src.datasets.math_datasets.MathDataset object at 0x7fae95707940>',\n",
       "        '<src.datasets.math_datasets.MathDataset object at 0x7fae9564f430>',\n",
       "        '<src.datasets.math_datasets.MathDataset object at 0x7fae97404910>',\n",
       "        '<src.datasets.math_datasets.MathDataset object at 0x7fae9564df60>',\n",
       "        '<src.datasets.math_datasets.MathDataset object at 0x7fae95706980>',\n",
       "        '<src.datasets.math_datasets.MathDataset object at 0x7fae9564f9d0>',\n",
       "        '<src.datasets.math_datasets.MathDataset object at 0x7fae9564e4d0>'],\n",
       "       'base_dataset': None,\n",
       "       'lpips_base_coeff': 0,\n",
       "       'lpips_prev_coeff': 1,\n",
       "       'base_dataset_config': None,\n",
       "       'sequential_mixing_rate': 0},\n",
       "      'type': 'MixedSequentialDataset'},\n",
       "     'tokenizer_name': ['T5Tokenizer', 't5-base'],\n",
       "     'use_mixed_dataset': True},\n",
       "    'val_C4': {'datasets': [{'args': {'path': 'allenai/c4',\n",
       "        'split': 'validation',\n",
       "        'streaming': False,\n",
       "        'data_files': {'validation': 'en/c4-validation.00000-of-00008.json.gz'},\n",
       "        'max_samples': 1000},\n",
       "       'type': 'HuggingFaceDataset'}],\n",
       "     'batch_size': 32,\n",
       "     'max_length': 256,\n",
       "     'num_workers': 5,\n",
       "     't5_mlm_masking': True,\n",
       "     'tokenizer_name': ['T5Tokenizer', 't5-base'],\n",
       "     'use_mixed_dataset': False},\n",
       "    'val_div': {'datasets': [{'args': {'name': 'arithmetic__div',\n",
       "        'path': 'deepmind/math_dataset',\n",
       "        'split': 'test',\n",
       "        'shuffle': True,\n",
       "        'max_samples': 256,\n",
       "        'shuffle_seed': 52},\n",
       "       'type': 'MathDataset'}],\n",
       "     'batch_size': 32,\n",
       "     'max_length': 256,\n",
       "     'num_workers': 5,\n",
       "     'tokenizer_name': ['T5Tokenizer', 't5-base'],\n",
       "     'use_mixed_dataset': False},\n",
       "    'val_mul': {'datasets': [{'args': {'name': 'arithmetic__mul',\n",
       "        'path': 'deepmind/math_dataset',\n",
       "        'split': 'test',\n",
       "        'shuffle': True,\n",
       "        'max_samples': 256,\n",
       "        'shuffle_seed': 52},\n",
       "       'type': 'MathDataset'}],\n",
       "     'batch_size': 32,\n",
       "     'max_length': 256,\n",
       "     'num_workers': 5,\n",
       "     'tokenizer_name': ['T5Tokenizer', 't5-base'],\n",
       "     'use_mixed_dataset': False},\n",
       "    'val_mixed': {'datasets': [{'args': {'name': 'arithmetic__mixed',\n",
       "        'path': 'deepmind/math_dataset',\n",
       "        'split': 'test',\n",
       "        'shuffle': True,\n",
       "        'max_samples': 256,\n",
       "        'shuffle_seed': 52},\n",
       "       'type': 'MathDataset'}],\n",
       "     'batch_size': 32,\n",
       "     'max_length': 256,\n",
       "     'num_workers': 5,\n",
       "     'tokenizer_name': ['T5Tokenizer', 't5-base'],\n",
       "     'use_mixed_dataset': False},\n",
       "    'val_add_or_sub': {'datasets': [{'args': {'name': 'arithmetic__add_or_sub',\n",
       "        'path': 'deepmind/math_dataset',\n",
       "        'split': 'test',\n",
       "        'shuffle': True,\n",
       "        'max_samples': 256,\n",
       "        'shuffle_seed': 52},\n",
       "       'type': 'MathDataset'}],\n",
       "     'batch_size': 32,\n",
       "     'max_length': 256,\n",
       "     'num_workers': 5,\n",
       "     'tokenizer_name': ['T5Tokenizer', 't5-base'],\n",
       "     'use_mixed_dataset': False},\n",
       "    'val_simplify_surd': {'datasets': [{'args': {'name': 'arithmetic__simplify_surd',\n",
       "        'path': 'deepmind/math_dataset',\n",
       "        'split': 'test',\n",
       "        'shuffle': True,\n",
       "        'max_samples': 256,\n",
       "        'shuffle_seed': 52},\n",
       "       'type': 'MathDataset'}],\n",
       "     'batch_size': 32,\n",
       "     'max_length': 256,\n",
       "     'num_workers': 5,\n",
       "     'tokenizer_name': ['T5Tokenizer', 't5-base'],\n",
       "     'use_mixed_dataset': False},\n",
       "    'val_add_sub_multiple': {'datasets': [{'args': {'name': 'arithmetic__add_sub_multiple',\n",
       "        'path': 'deepmind/math_dataset',\n",
       "        'split': 'test',\n",
       "        'shuffle': True,\n",
       "        'max_samples': 256,\n",
       "        'shuffle_seed': 52},\n",
       "       'type': 'MathDataset'}],\n",
       "     'batch_size': 32,\n",
       "     'max_length': 256,\n",
       "     'num_workers': 5,\n",
       "     'tokenizer_name': ['T5Tokenizer', 't5-base'],\n",
       "     'use_mixed_dataset': False},\n",
       "    'val_mul_div_multiple': {'datasets': [{'args': {'name': 'arithmetic__mul_div_multiple',\n",
       "        'path': 'deepmind/math_dataset',\n",
       "        'split': 'test',\n",
       "        'shuffle': True,\n",
       "        'max_samples': 256,\n",
       "        'shuffle_seed': 52},\n",
       "       'type': 'MathDataset'}],\n",
       "     'batch_size': 32,\n",
       "     'max_length': 256,\n",
       "     'num_workers': 5,\n",
       "     'tokenizer_name': ['T5Tokenizer', 't5-base'],\n",
       "     'use_mixed_dataset': False},\n",
       "    'val_add_or_sub_in_base': {'datasets': [{'args': {'name': 'arithmetic__add_or_sub_in_base',\n",
       "        'path': 'deepmind/math_dataset',\n",
       "        'split': 'test',\n",
       "        'shuffle': True,\n",
       "        'max_samples': 256,\n",
       "        'shuffle_seed': 52},\n",
       "       'type': 'MathDataset'}],\n",
       "     'batch_size': 32,\n",
       "     'max_length': 256,\n",
       "     'num_workers': 5,\n",
       "     'tokenizer_name': ['T5Tokenizer', 't5-base'],\n",
       "     'use_mixed_dataset': False},\n",
       "    'val_nearest_integer_root': {'datasets': [{'args': {'name': 'arithmetic__nearest_integer_root',\n",
       "        'path': 'deepmind/math_dataset',\n",
       "        'split': 'test',\n",
       "        'shuffle': True,\n",
       "        'max_samples': 256,\n",
       "        'shuffle_seed': 52},\n",
       "       'type': 'MathDataset'}],\n",
       "     'batch_size': 32,\n",
       "     'max_length': 256,\n",
       "     'num_workers': 5,\n",
       "     'tokenizer_name': ['T5Tokenizer', 't5-base'],\n",
       "     'use_mixed_dataset': False}},\n",
       "   'loss': {'type': 'CrossEntropyLoss'},\n",
       "   'name': 'T5_CL_summarization',\n",
       "   'model': {'args': {'t5_config': {'cache_dir': 'cache/',\n",
       "      'max_length': 256,\n",
       "      'model_name': 't5-base'},\n",
       "     'svd_lora_config': {'rank': 4,\n",
       "      'target_layers': ['q', 'k', 'v', 'o', 'wi', 'wo']}},\n",
       "    'type': 'T5SVDLoRA'},\n",
       "   'n_gpu': 1,\n",
       "   'metrics': [],\n",
       "   'trainer': {'epochs': 9,\n",
       "    'monitor': 'min loss',\n",
       "    'save_dir': 'saved/',\n",
       "    'verbosity': 2,\n",
       "    'visualize': 'wandb',\n",
       "    'save_period': 60,\n",
       "    'wandb_project': 'nlp-cl-project',\n",
       "    'eval_frequency': 1,\n",
       "    'grad_norm_clip': 100,\n",
       "    'wandb_run_name': 'Single SVDLoRA Math-1e-24k',\n",
       "    'first_epoch_eval_only': True},\n",
       "   'optimizer': {'args': {'lr': 0.0005,\n",
       "     'betas': [0.9, 0.95],\n",
       "     'weight_decay': 1e-05},\n",
       "    'type': 'AdamW'},\n",
       "   'lr_scheduler': {'args': {'gamma': 1}, 'type': 'ExponentialLR'}}},\n",
       " 'client': <wandb.apis.public.api.RetryingClient at 0x7f5da194a680>,\n",
       " '_entity': 'nothottryhard-msu',\n",
       " 'project': 'nlp-cl-project',\n",
       " '_files': {},\n",
       " '_base_dir': '/tmp',\n",
       " 'sweep': None,\n",
       " '_include_sweeps': True,\n",
       " 'dir': '/tmp/nothottryhard-msu/nlp-cl-project/x38dr3a7',\n",
       " '_summary': None,\n",
       " '_metadata': None,\n",
       " '_state': 'finished',\n",
       " 'server_provides_internal_id_field': True,\n",
       " '_project_internal_id': 41335949,\n",
       " 'user': <User nothottryhard>}"
      ]
     },
     "execution_count": 14,
     "metadata": {},
     "output_type": "execute_result"
    }
   ],
   "source": [
    "run.__dict__"
   ]
  },
  {
   "cell_type": "code",
   "execution_count": 15,
   "metadata": {},
   "outputs": [
    {
     "data": {
      "text/html": [
       "creating run (0.2s)"
      ],
      "text/plain": [
       "<IPython.core.display.HTML object>"
      ]
     },
     "metadata": {},
     "output_type": "display_data"
    },
    {
     "data": {
      "text/html": [
       "Tracking run with wandb version 0.19.9"
      ],
      "text/plain": [
       "<IPython.core.display.HTML object>"
      ]
     },
     "metadata": {},
     "output_type": "display_data"
    },
    {
     "data": {
      "text/html": [
       "Run data is saved locally in <code>/mnt/c/Users/mnpre/Documents/Python/NLP-CL-Project/nlp-cl-project/wandb/run-20250415_221854-top6xkdy</code>"
      ],
      "text/plain": [
       "<IPython.core.display.HTML object>"
      ]
     },
     "metadata": {},
     "output_type": "display_data"
    },
    {
     "data": {
      "text/html": [
       "Syncing run <strong><a href='https://wandb.ai/nothottryhard-msu/nlp-cl-project/runs/top6xkdy' target=\"_blank\">lucky-valley-17</a></strong> to <a href='https://wandb.ai/nothottryhard-msu/nlp-cl-project' target=\"_blank\">Weights & Biases</a> (<a href='https://wandb.me/developer-guide' target=\"_blank\">docs</a>)<br>"
      ],
      "text/plain": [
       "<IPython.core.display.HTML object>"
      ]
     },
     "metadata": {},
     "output_type": "display_data"
    },
    {
     "data": {
      "text/html": [
       " View project at <a href='https://wandb.ai/nothottryhard-msu/nlp-cl-project' target=\"_blank\">https://wandb.ai/nothottryhard-msu/nlp-cl-project</a>"
      ],
      "text/plain": [
       "<IPython.core.display.HTML object>"
      ]
     },
     "metadata": {},
     "output_type": "display_data"
    },
    {
     "data": {
      "text/html": [
       " View run at <a href='https://wandb.ai/nothottryhard-msu/nlp-cl-project/runs/top6xkdy' target=\"_blank\">https://wandb.ai/nothottryhard-msu/nlp-cl-project/runs/top6xkdy</a>"
      ],
      "text/plain": [
       "<IPython.core.display.HTML object>"
      ]
     },
     "metadata": {},
     "output_type": "display_data"
    },
    {
     "data": {
      "text/html": [
       "<button onClick=\"this.nextSibling.style.display='block';this.style.display='none';\">Display W&B run</button><iframe src='https://wandb.ai/nothottryhard-msu/nlp-cl-project/runs/top6xkdy?jupyter=true' style='border:none;width:100%;height:420px;display:none;'></iframe>"
      ],
      "text/plain": [
       "<wandb.sdk.wandb_run.Run at 0x7f5d8e4501c0>"
      ]
     },
     "execution_count": 15,
     "metadata": {},
     "output_type": "execute_result"
    }
   ],
   "source": [
    "wandb.init()"
   ]
  },
  {
   "cell_type": "code",
   "execution_count": 16,
   "metadata": {},
   "outputs": [
    {
     "name": "stderr",
     "output_type": "stream",
     "text": [
      "\u001b[34m\u001b[1mwandb\u001b[0m: \u001b[32m\u001b[41mERROR\u001b[0m The nbformat package was not found. It is required to save notebook history.\n"
     ]
    },
    {
     "data": {
      "text/html": [],
      "text/plain": [
       "<IPython.core.display.HTML object>"
      ]
     },
     "metadata": {},
     "output_type": "display_data"
    },
    {
     "data": {
      "text/html": [
       " View run <strong style=\"color:#cdcd00\">lucky-valley-17</strong> at: <a href='https://wandb.ai/nothottryhard-msu/nlp-cl-project/runs/top6xkdy' target=\"_blank\">https://wandb.ai/nothottryhard-msu/nlp-cl-project/runs/top6xkdy</a><br> View project at: <a href='https://wandb.ai/nothottryhard-msu/nlp-cl-project' target=\"_blank\">https://wandb.ai/nothottryhard-msu/nlp-cl-project</a><br>Synced 5 W&B file(s), 0 media file(s), 0 artifact file(s) and 0 other file(s)"
      ],
      "text/plain": [
       "<IPython.core.display.HTML object>"
      ]
     },
     "metadata": {},
     "output_type": "display_data"
    },
    {
     "data": {
      "text/html": [
       "Find logs at: <code>./wandb/run-20250415_221854-top6xkdy/logs</code>"
      ],
      "text/plain": [
       "<IPython.core.display.HTML object>"
      ]
     },
     "metadata": {},
     "output_type": "display_data"
    },
    {
     "data": {
      "text/html": [],
      "text/plain": [
       "<IPython.core.display.HTML object>"
      ]
     },
     "metadata": {},
     "output_type": "display_data"
    },
    {
     "data": {
      "text/html": [
       "Tracking run with wandb version 0.19.9"
      ],
      "text/plain": [
       "<IPython.core.display.HTML object>"
      ]
     },
     "metadata": {},
     "output_type": "display_data"
    },
    {
     "data": {
      "text/html": [
       "Run data is saved locally in <code>/mnt/c/Users/mnpre/Documents/Python/NLP-CL-Project/nlp-cl-project/wandb/run-20250415_222029-d83nnvjp</code>"
      ],
      "text/plain": [
       "<IPython.core.display.HTML object>"
      ]
     },
     "metadata": {},
     "output_type": "display_data"
    },
    {
     "data": {
      "text/html": [
       "Syncing run <strong><a href='https://wandb.ai/nothottryhard-msu/nlp-cl-project/runs/d83nnvjp' target=\"_blank\">Single SVDLoRA Math-1e-24k (modified)</a></strong> to <a href='https://wandb.ai/nothottryhard-msu/nlp-cl-project' target=\"_blank\">Weights & Biases</a> (<a href='https://wandb.me/developer-guide' target=\"_blank\">docs</a>)<br>"
      ],
      "text/plain": [
       "<IPython.core.display.HTML object>"
      ]
     },
     "metadata": {},
     "output_type": "display_data"
    },
    {
     "data": {
      "text/html": [
       " View project at <a href='https://wandb.ai/nothottryhard-msu/nlp-cl-project' target=\"_blank\">https://wandb.ai/nothottryhard-msu/nlp-cl-project</a>"
      ],
      "text/plain": [
       "<IPython.core.display.HTML object>"
      ]
     },
     "metadata": {},
     "output_type": "display_data"
    },
    {
     "data": {
      "text/html": [
       " View run at <a href='https://wandb.ai/nothottryhard-msu/nlp-cl-project/runs/d83nnvjp' target=\"_blank\">https://wandb.ai/nothottryhard-msu/nlp-cl-project/runs/d83nnvjp</a>"
      ],
      "text/plain": [
       "<IPython.core.display.HTML object>"
      ]
     },
     "metadata": {},
     "output_type": "display_data"
    },
    {
     "data": {
      "text/html": [],
      "text/plain": [
       "<IPython.core.display.HTML object>"
      ]
     },
     "metadata": {},
     "output_type": "display_data"
    },
    {
     "data": {
      "text/html": [
       "<br>    <style><br>        .wandb-row {<br>            display: flex;<br>            flex-direction: row;<br>            flex-wrap: wrap;<br>            justify-content: flex-start;<br>            width: 100%;<br>        }<br>        .wandb-col {<br>            display: flex;<br>            flex-direction: column;<br>            flex-basis: 100%;<br>            flex: 1;<br>            padding: 10px;<br>        }<br>    </style><br><div class=\"wandb-row\"><div class=\"wandb-col\"><h3>Run history:</h3><br/><table class=\"wandb\"><tr><td>epoch_</td><td>▁</td></tr><tr><td>epoch_val_C4</td><td>▁▂▃▄▅▅▆▇█</td></tr><tr><td>extra_loss_train</td><td>▁█▆▅▅▅▅▅▅▄▄▃▃▃▃▃▃▄▄▄▄▄▄▄▄▃▃▃▄▄▄▄▃▃▃▄▄▄▄▄</td></tr><tr><td>extra_loss_val_C4</td><td>▁▁▁▁▁▁▁▁▁▁</td></tr><tr><td>extra_loss_val_add_or_sub</td><td>▁▁▁▁▁▁▁▁▁▁</td></tr><tr><td>extra_loss_val_add_or_sub_in_base</td><td>▁▁▁▁▁▁▁▁▁▁</td></tr><tr><td>extra_loss_val_add_sub_multiple</td><td>▁▁▁▁▁▁▁▁▁▁</td></tr><tr><td>extra_loss_val_div</td><td>▁▁▁▁▁▁▁▁▁▁</td></tr><tr><td>extra_loss_val_mixed</td><td>▁▁▁▁▁▁▁▁▁▁</td></tr><tr><td>extra_loss_val_mul</td><td>▁▁▁▁▁▁▁▁▁▁</td></tr><tr><td>extra_loss_val_mul_div_multiple</td><td>▁▁▁▁▁▁▁▁▁▁</td></tr><tr><td>extra_loss_val_nearest_integer_root</td><td>▁▁▁▁▁▁▁▁▁▁</td></tr><tr><td>extra_loss_val_simplify_surd</td><td>▁▁▁▁▁▁▁▁▁▁</td></tr><tr><td>grad norm_train</td><td>▃▄▄▄▄▄▄▂▃▆▂▁▁▂▁▅▃▂▄▃▃▂▂▄▄▄█▄▃▃▃▂▂▃▂▄▃▅▅▄</td></tr><tr><td>learning rate_train</td><td>▁▁▁▁▁▁▁▁▁▁▁▁▁▁▁▁▁▁▁▁▁▁▁▁▁▁▁▁▁▁▁▁▁▁▁▁▁▁▁▁</td></tr><tr><td>loss_train</td><td>▅▄▄▃▃▂▂▂▂▁▁▁▆▃▃▃▂▂▂▂▇▆▆▆▄▂▂▂▂▂▂▂█▄▄▃▄▃▃▃</td></tr><tr><td>loss_val_C4</td><td>▁▆▆▇█▆▆▅▆▇</td></tr><tr><td>loss_val_add_or_sub</td><td>█▁▂▃▃▅▂▅▆▂</td></tr><tr><td>loss_val_add_or_sub_in_base</td><td>█▁▁▂▂▂▂▃▄▂</td></tr><tr><td>loss_val_add_sub_multiple</td><td>█▁▁▁▁▁▂▁▂▂</td></tr><tr><td>loss_val_div</td><td>█▂▃▃▁▃▂▃▅▂</td></tr><tr><td>loss_val_mixed</td><td>█▂▂▂▁▁▃▁▂▂</td></tr><tr><td>loss_val_mul</td><td>█▂▃▃▂▄▁▄▅▂</td></tr><tr><td>loss_val_mul_div_multiple</td><td>█▂▂▂▁▁▃▁▂▂</td></tr><tr><td>loss_val_nearest_integer_root</td><td>█▄▅▂▂▂▃▂▁▂</td></tr><tr><td>loss_val_simplify_surd</td><td>█▃▃▄▃▄▃▄▄▁</td></tr><tr><td>steps_per_sec_train</td><td>▁▁▁▁▁▁▁▁▁▁▁▁▁▁▁▁▁▁▁▁▁▁▁▁▁▁▁▁▁█▁▁▁▁▁▁▁▁▁▁</td></tr><tr><td>steps_per_sec_val_C4</td><td>▄▁▄▃█▃▆▆▁</td></tr><tr><td>steps_per_sec_val_add_or_sub</td><td>▅▅█▁▇▆▇▃▃</td></tr><tr><td>steps_per_sec_val_add_or_sub_in_base</td><td>▁██▄▇▇▇▆▄</td></tr><tr><td>steps_per_sec_val_add_sub_multiple</td><td>▁▆▇▁█▂▅▃▃</td></tr><tr><td>steps_per_sec_val_div</td><td>▄█▅▇▁▅█▇▇</td></tr><tr><td>steps_per_sec_val_mixed</td><td>▆▁▅▅▇▅▆█▇</td></tr><tr><td>steps_per_sec_val_mul</td><td>█▅▇▁█▇█▇▅</td></tr><tr><td>steps_per_sec_val_mul_div_multiple</td><td>▇▆▇▁█▄█▇▅</td></tr><tr><td>steps_per_sec_val_nearest_integer_root</td><td>▆▆▇▁█▇█▅▇</td></tr><tr><td>steps_per_sec_val_simplify_surd</td><td>▄▅█▁▆▅▆▇▄</td></tr><tr><td>total_loss_train</td><td>▄▃▃▂▂▂▁▁▁▁▃▂▂▂▂▂▂▂▂█▄▄▄▄▁▂▂▂▂▂▂▂▂▂▁▁▃▂▂▂</td></tr><tr><td>total_loss_val_C4</td><td>▁▁▁▁▁▁▁▁▁▁</td></tr><tr><td>total_loss_val_add_or_sub</td><td>▁▁▁▁▁▁▁▁▁▁</td></tr><tr><td>total_loss_val_add_or_sub_in_base</td><td>▁▁▁▁▁▁▁▁▁▁</td></tr><tr><td>total_loss_val_add_sub_multiple</td><td>▁▁▁▁▁▁▁▁▁▁</td></tr><tr><td>total_loss_val_div</td><td>▁▁▁▁▁▁▁▁▁▁</td></tr><tr><td>total_loss_val_mixed</td><td>▁▁▁▁▁▁▁▁▁▁</td></tr><tr><td>total_loss_val_mul</td><td>▁▁▁▁▁▁▁▁▁▁</td></tr><tr><td>total_loss_val_mul_div_multiple</td><td>▁▁▁▁▁▁▁▁▁▁</td></tr><tr><td>total_loss_val_nearest_integer_root</td><td>▁▁▁▁▁▁▁▁▁▁</td></tr><tr><td>total_loss_val_simplify_surd</td><td>▁▁▁▁▁▁▁▁▁▁</td></tr></table><br/></div><div class=\"wandb-col\"><h3>Run summary:</h3><br/><table class=\"wandb\"><tr><td>epoch_</td><td>0</td></tr><tr><td>epoch_val_C4</td><td>9</td></tr><tr><td>extra_loss_train</td><td>0.08475</td></tr><tr><td>extra_loss_val_C4</td><td>0</td></tr><tr><td>extra_loss_val_add_or_sub</td><td>0</td></tr><tr><td>extra_loss_val_add_or_sub_in_base</td><td>0</td></tr><tr><td>extra_loss_val_add_sub_multiple</td><td>0</td></tr><tr><td>extra_loss_val_div</td><td>0</td></tr><tr><td>extra_loss_val_mixed</td><td>0</td></tr><tr><td>extra_loss_val_mul</td><td>0</td></tr><tr><td>extra_loss_val_mul_div_multiple</td><td>0</td></tr><tr><td>extra_loss_val_nearest_integer_root</td><td>0</td></tr><tr><td>extra_loss_val_simplify_surd</td><td>0</td></tr><tr><td>grad norm_train</td><td>0.66434</td></tr><tr><td>learning rate_train</td><td>0.0005</td></tr><tr><td>loss_train</td><td>0.80939</td></tr><tr><td>loss_val_C4</td><td>2.09282</td></tr><tr><td>loss_val_add_or_sub</td><td>1.92699</td></tr><tr><td>loss_val_add_or_sub_in_base</td><td>1.26696</td></tr><tr><td>loss_val_add_sub_multiple</td><td>1.02505</td></tr><tr><td>loss_val_div</td><td>1.4368</td></tr><tr><td>loss_val_mixed</td><td>1.11204</td></tr><tr><td>loss_val_mul</td><td>1.90226</td></tr><tr><td>loss_val_mul_div_multiple</td><td>1.12491</td></tr><tr><td>loss_val_nearest_integer_root</td><td>1.09932</td></tr><tr><td>loss_val_simplify_surd</td><td>0.86476</td></tr><tr><td>steps_per_sec_train</td><td>0.03431</td></tr><tr><td>steps_per_sec_val_C4</td><td>0.00318</td></tr><tr><td>steps_per_sec_val_add_or_sub</td><td>0.03542</td></tr><tr><td>steps_per_sec_val_add_or_sub_in_base</td><td>0.81126</td></tr><tr><td>steps_per_sec_val_add_sub_multiple</td><td>0.86795</td></tr><tr><td>steps_per_sec_val_div</td><td>0.92508</td></tr><tr><td>steps_per_sec_val_mixed</td><td>0.92864</td></tr><tr><td>steps_per_sec_val_mul</td><td>0.85137</td></tr><tr><td>steps_per_sec_val_mul_div_multiple</td><td>0.85542</td></tr><tr><td>steps_per_sec_val_nearest_integer_root</td><td>0.91238</td></tr><tr><td>steps_per_sec_val_simplify_surd</td><td>0.7125</td></tr><tr><td>total_loss_train</td><td>0.89414</td></tr><tr><td>total_loss_val_C4</td><td>0</td></tr><tr><td>total_loss_val_add_or_sub</td><td>0</td></tr><tr><td>total_loss_val_add_or_sub_in_base</td><td>0</td></tr><tr><td>total_loss_val_add_sub_multiple</td><td>0</td></tr><tr><td>total_loss_val_div</td><td>0</td></tr><tr><td>total_loss_val_mixed</td><td>0</td></tr><tr><td>total_loss_val_mul</td><td>0</td></tr><tr><td>total_loss_val_mul_div_multiple</td><td>0</td></tr><tr><td>total_loss_val_nearest_integer_root</td><td>0</td></tr><tr><td>total_loss_val_simplify_surd</td><td>0</td></tr></table><br/></div></div>"
      ],
      "text/plain": [
       "<IPython.core.display.HTML object>"
      ]
     },
     "metadata": {},
     "output_type": "display_data"
    },
    {
     "data": {
      "text/html": [
       " View run <strong style=\"color:#cdcd00\">Single SVDLoRA Math-1e-24k (modified)</strong> at: <a href='https://wandb.ai/nothottryhard-msu/nlp-cl-project/runs/d83nnvjp' target=\"_blank\">https://wandb.ai/nothottryhard-msu/nlp-cl-project/runs/d83nnvjp</a><br> View project at: <a href='https://wandb.ai/nothottryhard-msu/nlp-cl-project' target=\"_blank\">https://wandb.ai/nothottryhard-msu/nlp-cl-project</a><br>Synced 5 W&B file(s), 0 media file(s), 0 artifact file(s) and 0 other file(s)"
      ],
      "text/plain": [
       "<IPython.core.display.HTML object>"
      ]
     },
     "metadata": {},
     "output_type": "display_data"
    },
    {
     "data": {
      "text/html": [
       "Find logs at: <code>./wandb/run-20250415_222029-d83nnvjp/logs</code>"
      ],
      "text/plain": [
       "<IPython.core.display.HTML object>"
      ]
     },
     "metadata": {},
     "output_type": "display_data"
    }
   ],
   "source": [
    "import numpy as np\n",
    "\n",
    "original_config = run.config\n",
    "\n",
    "# Modify history\n",
    "history = run.history()\n",
    "# history[\"_step\"] *= 0.75  # Example modification\n",
    "\n",
    "# Create a new run with copied config and metadata\n",
    "new_run = wandb.init(\n",
    "    project=run.project,\n",
    "    name=f\"{run.name} (modified)\",\n",
    "    config=original_config,\n",
    "    group=run.group\n",
    ")\n",
    "new_run.tags = run.tags\n",
    "new_run.notes = run.notes\n",
    "\n",
    "# Log the modified history\n",
    "for _, row in history.iterrows():\n",
    "    log_data = {}\n",
    "    for index, value in zip(row.index, row):\n",
    "        if not np.isnan(value):\n",
    "            log_data[index] = value\n",
    "            \n",
    "    # log_data = row.drop(\"_step\").to_dict()\n",
    "    log_data[\"_step\"] = int(log_data[\"_step\"] * 2)\n",
    "    # print(row[\"_step\"], log_data['_step'])\n",
    "    new_run.log(log_data, step=log_data['_step'])\n",
    "\n",
    "# Finalize the new run\n",
    "new_run.finish()\n"
   ]
  },
  {
   "cell_type": "markdown",
   "metadata": {},
   "source": []
  },
  {
   "cell_type": "code",
   "execution_count": 50,
   "metadata": {},
   "outputs": [],
   "source": [
    "import numpy as np"
   ]
  },
  {
   "cell_type": "code",
   "execution_count": 65,
   "metadata": {},
   "outputs": [
    {
     "name": "stdout",
     "output_type": "stream",
     "text": [
      "nan steps_per_sec_val_add_sub_multiple <class 'float'> True\n",
      "1733461027.637954 _timestamp <class 'float'> False\n",
      "0.0 total_loss_val_C4 <class 'float'> False\n",
      "0.0 extra_loss_val_simplify_surd <class 'float'> False\n",
      "1.0 epoch_val_C4 <class 'float'> False\n",
      "0.0 extra_loss_val_add_or_sub <class 'float'> False\n",
      "6.602930068969727 loss_train <class 'float'> False\n",
      "nan steps_per_sec_val_nearest_integer_root <class 'float'> True\n",
      "0.0 extra_loss_val_add_or_sub_in_base <class 'float'> False\n",
      "0.0 total_loss_val_mul_div_multiple <class 'float'> False\n",
      "0.0 extra_loss_val_mul <class 'float'> False\n",
      "6.602977752685547 total_loss_train <class 'float'> False\n",
      "nan steps_per_sec_train <class 'float'> True\n",
      "0.0 extra_loss_val_add_sub_multiple <class 'float'> False\n",
      "6.346697503870184 loss_val_simplify_surd <class 'float'> False\n",
      "0.0 total_loss_val_add_sub_multiple <class 'float'> False\n",
      "0.0 total_loss_val_mixed <class 'float'> False\n",
      "4.744975740322843e-05 extra_loss_train <class 'float'> False\n",
      "6.247155406258323 loss_val_add_or_sub_in_base <class 'float'> False\n",
      "5.902550740675493 loss_val_div <class 'float'> False\n",
      "0.0 total_loss_val_div <class 'float'> False\n",
      "0.0 total_loss_val_simplify_surd <class 'float'> False\n",
      "170.648383547 _runtime <class 'float'> False\n",
      "5.695509997281161 loss_val_mul <class 'float'> False\n",
      "4.882432547482577 loss_val_add_sub_multiple <class 'float'> False\n",
      "nan steps_per_sec_val_mixed <class 'float'> True\n",
      "2.0441642375219438 loss_val_C4 <class 'float'> False\n",
      "0.0 extra_loss_val_mixed <class 'float'> False\n",
      "0.0 total_loss_val_mul <class 'float'> False\n",
      "0.0005 learning rate_train <class 'float'> False\n",
      "nan steps_per_sec_val_C4 <class 'float'> True\n",
      "nan steps_per_sec_val_div <class 'float'> True\n",
      "0.0 extra_loss_val_mul_div_multiple <class 'float'> False\n",
      "nan steps_per_sec_val_mul <class 'float'> True\n",
      "1.5122545957565308 grad norm_train <class 'float'> False\n",
      "4.70724495974454 loss_val_nearest_integer_root <class 'float'> False\n",
      "0.0 epoch_ <class 'float'> False\n",
      "5.703954436562278 loss_val_mul_div_multiple <class 'float'> False\n",
      "nan steps_per_sec_val_add_or_sub <class 'float'> True\n",
      "0.0 total_loss_val_add_or_sub_in_base <class 'float'> False\n",
      "0.0 extra_loss_val_div <class 'float'> False\n",
      "nan steps_per_sec_val_simplify_surd <class 'float'> True\n",
      "nan steps_per_sec_val_add_or_sub_in_base <class 'float'> True\n",
      "0.0 extra_loss_val_C4 <class 'float'> False\n",
      "5.600683125582608 loss_val_add_or_sub <class 'float'> False\n",
      "0.0 _step <class 'float'> False\n",
      "5.767298394983465 loss_val_mixed <class 'float'> False\n",
      "0.0 total_loss_val_nearest_integer_root <class 'float'> False\n",
      "0.0 total_loss_val_add_or_sub <class 'float'> False\n",
      "0.0 extra_loss_val_nearest_integer_root <class 'float'> False\n",
      "nan steps_per_sec_val_mul_div_multiple <class 'float'> True\n"
     ]
    }
   ],
   "source": [
    "for k, v in zip(run_history.iloc[0], run_history.iloc[0].index):\n",
    "    print(k, v, type(k), np.isnan(k))"
   ]
  },
  {
   "cell_type": "code",
   "execution_count": null,
   "metadata": {},
   "outputs": [],
   "source": []
  }
 ],
 "metadata": {
  "kernelspec": {
   "display_name": "nlpcl_env",
   "language": "python",
   "name": "python3"
  },
  "language_info": {
   "codemirror_mode": {
    "name": "ipython",
    "version": 3
   },
   "file_extension": ".py",
   "mimetype": "text/x-python",
   "name": "python",
   "nbconvert_exporter": "python",
   "pygments_lexer": "ipython3",
   "version": "3.10.16"
  }
 },
 "nbformat": 4,
 "nbformat_minor": 2
}
